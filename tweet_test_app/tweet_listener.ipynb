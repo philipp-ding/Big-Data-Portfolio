{
 "cells": [
  {
   "cell_type": "code",
   "execution_count": 1,
   "metadata": {},
   "outputs": [],
   "source": [
    "import tweepy\n",
    "from tweepy import OAuthHandler  # to authenticate Twitter API\n",
    "from tweepy import Stream\n",
    "# from tweepy.streaming import StreamListener\n",
    "import socket\n",
    "import json"
   ]
  },
  {
   "cell_type": "code",
   "execution_count": 2,
   "metadata": {},
   "outputs": [],
   "source": [
    "# Twitter developer Credentials to connect to twitter account\n",
    "access_token = \"TJ5yMVqMi5bb9mTTvfGWYpuuG\"\n",
    "access_secret = \"hiwyl27xXGUz5IB1MKVOW78WmvW0MmJ02idTaLzPc9N3pRawLk\"\n",
    "consumer_key = \"3154565879-0nE46vwnEMQ55KUCEXRNeZWlMd06IXYfXVIYpLv\"\n",
    "consumer_secret = \"zOgVGCXi3Xoho2lM3XtprtbiZ3N5D7pN0192zpFleYLxv\""
   ]
  },
  {
   "cell_type": "code",
   "execution_count": 3,
   "metadata": {},
   "outputs": [],
   "source": [
    "class TweetsListener(Stream):\n",
    "    # initialized the constructor\n",
    "    def __init__(self, csocket):\n",
    "        self.client_socket = csocket\n",
    "\n",
    "    def on_data(self, data):\n",
    "        try:\n",
    "            # read the Twitter data which comes as a JSON format\n",
    "            msg = json.loads(data)\n",
    "\n",
    "            # the 'text' in the JSON file contains the actual tweet.\n",
    "            print(msg['text'].encode('utf-8'))\n",
    "\n",
    "            # the actual tweet data is sent to the client socket\n",
    "            self.client_socket.send(msg['text'].encode('utf-8'))\n",
    "            return True\n",
    "\n",
    "        except BaseException as e:\n",
    "            # Error handling\n",
    "            print(\"Ahh! Look what is wrong : %s\" % str(e))\n",
    "            return True\n",
    "\n",
    "    def on_error(self, status):\n",
    "        print(status)\n",
    "        return True"
   ]
  },
  {
   "cell_type": "code",
   "execution_count": 4,
   "metadata": {},
   "outputs": [],
   "source": [
    "def sendData(c_socket):\n",
    "    # authentication\n",
    "    auth = OAuthHandler(consumer_key, consumer_secret)\n",
    "    auth.set_access_token(access_token, access_secret)\n",
    "    # twitter_stream will get the actual live tweet data\n",
    "    twitter_stream = Stream(auth, TweetsListener(c_socket))\n",
    "    # filter the tweet feeds related to \"corona\"\n",
    "    twitter_stream.filter(track=['corona'])\n",
    "    # in case you want to pass multiple criteria\n",
    "    # twitter_stream.filter(track=['DataScience','python','Iot'])"
   ]
  },
  {
   "cell_type": "code",
   "execution_count": 5,
   "metadata": {},
   "outputs": [
    {
     "name": "stdout",
     "output_type": "stream",
     "text": [
      "Listening on port: 3333\n"
     ]
    }
   ],
   "source": [
    "# create a socket object\n",
    "s = socket.socket()\n",
    "\n",
    "# Get local machine name : host and port\n",
    "host = \"127.0.0.1\"\n",
    "port = 3333\n",
    "\n",
    "# Bind to the port\n",
    "s.bind((host, port))\n",
    "print(\"Listening on port: %s\" % str(port))\n",
    "\n",
    "# Wait and Establish the connection with client.\n",
    "s.listen(5)\n",
    "c, addr = s.accept()\n",
    "\n",
    "print(\"Received request from: \" + str(addr))\n",
    "\n",
    "# Keep the stream data available\n",
    "sendData(c)"
   ]
  },
  {
   "cell_type": "code",
   "execution_count": null,
   "metadata": {},
   "outputs": [],
   "source": []
  }
 ],
 "metadata": {
  "kernelspec": {
   "display_name": "Python 3.9.6 64-bit",
   "language": "python",
   "name": "python3"
  },
  "language_info": {
   "codemirror_mode": {
    "name": "ipython",
    "version": 3
   },
   "file_extension": ".py",
   "mimetype": "text/x-python",
   "name": "python",
   "nbconvert_exporter": "python",
   "pygments_lexer": "ipython3",
   "version": "3.9.6"
  },
  "orig_nbformat": 4,
  "vscode": {
   "interpreter": {
    "hash": "4d3681dfa7bb848051958087f5c059ce61aaa4177c68ca92cc2769bacbe1c31f"
   }
  }
 },
 "nbformat": 4,
 "nbformat_minor": 2
}
