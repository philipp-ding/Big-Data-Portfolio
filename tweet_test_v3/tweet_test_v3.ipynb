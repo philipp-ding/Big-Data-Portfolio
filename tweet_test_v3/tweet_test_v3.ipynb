{
 "cells": [
  {
   "cell_type": "code",
   "execution_count": 4,
   "metadata": {},
   "outputs": [
    {
     "ename": "AttributeError",
     "evalue": "module 'tweepy' has no attribute 'OAuth1UserHandler'",
     "output_type": "error",
     "traceback": [
      "\u001b[1;31m---------------------------------------------------------------------------\u001b[0m",
      "\u001b[1;31mAttributeError\u001b[0m                            Traceback (most recent call last)",
      "\u001b[1;32m~\\AppData\\Local\\Temp/ipykernel_23888/325978323.py\u001b[0m in \u001b[0;36m<module>\u001b[1;34m\u001b[0m\n\u001b[0;32m     15\u001b[0m                        access_token_secret)\n\u001b[0;32m     16\u001b[0m \u001b[1;33m\u001b[0m\u001b[0m\n\u001b[1;32m---> 17\u001b[1;33m auth = tweepy.OAuth1UserHandler(api_key, api_secret, access_token,\n\u001b[0m\u001b[0;32m     18\u001b[0m                                 access_token_secret)\n\u001b[0;32m     19\u001b[0m \u001b[0mapi\u001b[0m \u001b[1;33m=\u001b[0m \u001b[0mtweepy\u001b[0m\u001b[1;33m.\u001b[0m\u001b[0mAPI\u001b[0m\u001b[1;33m(\u001b[0m\u001b[0mauth\u001b[0m\u001b[1;33m)\u001b[0m\u001b[1;33m\u001b[0m\u001b[1;33m\u001b[0m\u001b[0m\n",
      "\u001b[1;31mAttributeError\u001b[0m: module 'tweepy' has no attribute 'OAuth1UserHandler'"
     ]
    }
   ],
   "source": [
    "\n",
    "bearer_token = 'AAAAAAAAAAAAAAAAAAAAAMLdgQEAAAAApE%2BdLd2GEuEuVimBbopFFB0jcGM%3Df2PD6SjLBxo7IjdD9OfR12bcW7PHjNkJUFY1KuRwVFonBU60dD'\n",
    "\n",
    "# Importing Tweepy and time\n",
    "import tweepy\n",
    "import time\n",
    "\n",
    "# Credentials (INSERT YOUR KEYS AND TOKENS IN THE STRINGS BELOW)\n",
    "api_key = \"\"\n",
    "api_secret = \"\"\n",
    "access_token = \"\"\n",
    "access_token_secret = \"\"\n",
    "\n",
    "# Gainaing access and connecting to Twitter API using Credentials\n",
    "client = tweepy.Client(bearer_token, api_key, api_secret, access_token,\n",
    "                       access_token_secret)\n",
    "\n",
    "auth = tweepy.OAuth1UserHandler(api_key, api_secret, access_token,\n",
    "                                access_token_secret)\n",
    "api = tweepy.API(auth)\n",
    "\n",
    "search_terms = [\"python\", \"programming\", \"coding\"]\n",
    "\n",
    "\n",
    "# Bot searches for tweets containing certain keywords\n",
    "class MyStream(tweepy.StreamingClient):\n",
    "\n",
    "    # This function gets called when the stream is working\n",
    "    def on_connect(self):\n",
    "\n",
    "        print(\"Connected\")\n",
    "\n",
    "    # This function gets called when a tweet passes the stream\n",
    "    def on_tweet(self, tweet):\n",
    "\n",
    "        # Displaying tweet in console\n",
    "        if tweet.referenced_tweets == None:\n",
    "            print(tweet.text)\n",
    "            client.like(tweet.id)\n",
    "\n",
    "            # Delay between tweets\n",
    "            time.sleep(0.5)\n",
    "\n",
    "\n",
    "# Creating Stream object\n",
    "stream = MyStream(bearer_token=bearer_token)\n",
    "\n",
    "# Adding terms to search rules\n",
    "# It's important to know that these rules don't get deleted when you stop the\n",
    "# program, so you'd need to use stream.get_rules() and stream.delete_rules()\n",
    "# to change them, or you can use the optional parameter to stream.add_rules()\n",
    "# called dry_run (set it to True, and the rules will get deleted after the bot\n",
    "# stopped running).\n",
    "for term in search_terms:\n",
    "    stream.add_rules(tweepy.StreamRule(term))\n",
    "\n",
    "# Starting stream\n",
    "stream.filter(tweet_fields=[\"referenced_tweets\"])"
   ]
  }
 ],
 "metadata": {
  "kernelspec": {
   "display_name": "Python 3.9.6 64-bit",
   "language": "python",
   "name": "python3"
  },
  "language_info": {
   "codemirror_mode": {
    "name": "ipython",
    "version": 3
   },
   "file_extension": ".py",
   "mimetype": "text/x-python",
   "name": "python",
   "nbconvert_exporter": "python",
   "pygments_lexer": "ipython3",
   "version": "3.9.6"
  },
  "orig_nbformat": 4,
  "vscode": {
   "interpreter": {
    "hash": "4d3681dfa7bb848051958087f5c059ce61aaa4177c68ca92cc2769bacbe1c31f"
   }
  }
 },
 "nbformat": 4,
 "nbformat_minor": 2
}
