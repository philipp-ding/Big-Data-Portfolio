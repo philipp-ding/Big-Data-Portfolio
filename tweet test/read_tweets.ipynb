{
 "cells": [
  {
   "cell_type": "code",
   "execution_count": 37,
   "metadata": {},
   "outputs": [],
   "source": [
    "import tweepy\n",
    "from tweepy.auth import OAuthHandler\n",
    "from tweepy import Stream\n",
    "# from tweepy.streaming import StreamListener\n",
    "import socket\n",
    "import json"
   ]
  },
  {
   "cell_type": "code",
   "execution_count": 38,
   "metadata": {},
   "outputs": [],
   "source": [
    "# request to get credentials at http://apps.twitter.com\n",
    "consumer_key = 'TJ5yMVqMi5bb9mTTvfGWYpuuG'\n",
    "consumer_secret = 'hiwyl27xXGUz5IB1MKVOW78WmvW0MmJ02idTaLzPc9N3pRawLk'\n",
    "access_token = '3154565879-0nE46vwnEMQ55KUCEXRNeZWlMd06IXYfXVIYpLv'\n",
    "access_secret = 'zOgVGCXi3Xoho2lM3XtprtbiZ3N5D7pN0192zpFleYLxv'\n"
   ]
  },
  {
   "cell_type": "code",
   "execution_count": 39,
   "metadata": {},
   "outputs": [],
   "source": [
    "# we create this class that inherits from the StreamListener in tweepy StreamListener\n",
    "class TweetsListener(tweepy.Stream):\n",
    "    def __init__(self, *args ,csocket):\n",
    "        super().__init__(*args)\n",
    "        self.client_socket = csocket\n",
    "\n",
    "    # we override the on_data() function in StreamListener\n",
    "    # def on_data(self, data):\n",
    "    #     try:\n",
    "    #         message = json.loads(data)\n",
    "    #         print(message['text'].encode('utf-8'))\n",
    "    #         self.client_socket.send(message['text'].encode('utf-8'))\n",
    "    #         return True\n",
    "    #     except BaseException as e:\n",
    "    #         print(\"Error on_data: %s\" % str(e))\n",
    "    #     return True\n",
    "    def on_data(self, data):\n",
    "        try:\n",
    "            msg = json.loads(data)  # Create a message from json file\n",
    "            print(msg['text'].encode('utf-8')\n",
    "                  )  # Print the message and UTF-8 coding will eliminate emojis\n",
    "            ## self.client_socket.send( msg['text'].encode('utf-8') )  this line is wrong , add the \"\\n\"\n",
    "            self.client_socket.send((str(msg['text']) + \"\\n\").encode('utf-8'))\n",
    "            return True\n",
    "        except BaseException as e:\n",
    "            print(\"Error on_data: %s\" % str(e))\n",
    "        return True\n",
    "\n",
    "    def if_error(self, status):\n",
    "        print(status)\n",
    "        return True"
   ]
  },
  {
   "cell_type": "code",
   "execution_count": null,
   "metadata": {},
   "outputs": [],
   "source": [
    "    def on_data(self, data):\n",
    "        try:\n",
    "            msg = json.loads( data ) # Create a message from json file\n",
    "            print( msg['text'].encode('utf-8') ) # Print the message and UTF-8 coding will eliminate emojis\n",
    "            ## self.client_socket.send( msg['text'].encode('utf-8') )  this line is wrong , add the \"\\n\" \n",
    "            self.client_socket.send((str(msg['text']) + \"\\n\").encode('utf-8'))\n",
    "            return True\n",
    "        except BaseException as e:\n",
    "            print(\"Error on_data: %s\" % str(e))\n",
    "        return True"
   ]
  },
  {
   "cell_type": "code",
   "execution_count": 40,
   "metadata": {},
   "outputs": [],
   "source": [
    "def send_tweets(c_socket):\n",
    "    # auth = OAuthHandler(consumer_key, consumer_secret)\n",
    "    # auth.set_access_token(access_token, access_secret)\n",
    "\n",
    "    twitter_stream = TweetsListener(consumer_key,\n",
    "                                consumer_secret,\n",
    "                                access_token,\n",
    "                                access_secret,\n",
    "                                csocket = c_socket)\n",
    "\n",
    "\n",
    "    # twitter_stream = Stream(auth, TweetsListener(c_socket))\n",
    "    twitter_stream.filter(track=['football'\n",
    "                                 ])  #we are interested in this topic.\n"
   ]
  },
  {
   "cell_type": "code",
   "execution_count": 41,
   "metadata": {},
   "outputs": [
    {
     "name": "stdout",
     "output_type": "stream",
     "text": [
      "Now listening on port: 5555\n",
      "Received request from: ('127.0.0.1', 58739)\n"
     ]
    },
    {
     "name": "stderr",
     "output_type": "stream",
     "text": [
      "Stream encountered HTTP error: 403\n",
      "Stream encountered HTTP error: 403\n",
      "Stream encountered HTTP error: 403\n",
      "Stream encountered HTTP error: 403\n",
      "Stream encountered HTTP error: 403\n"
     ]
    }
   ],
   "source": [
    "if __name__ == \"__main__\":\n",
    "    new_skt = socket.socket()         # initiate a socket object\n",
    "    host = \"127.0.0.1\"     # local machine address\n",
    "    port = 5555                 # specific port for your service.\n",
    "    new_skt.bind((host, port))        # Binding host and port\n",
    "\n",
    "    print(\"Now listening on port: %s\" % str(port))\n",
    "\n",
    "    new_skt.listen(5)                 #  waiting for client connection.\n",
    "    c, addr = new_skt.accept()        # Establish connection with client. it returns first a socket object,c, and the address bound to the socket\n",
    "\n",
    "    print(\"Received request from: \" + str(addr))\n",
    "    # and after accepting the connection, we aill sent the tweets through the socket\n",
    "    send_tweets(c)"
   ]
  },
  {
   "cell_type": "code",
   "execution_count": null,
   "metadata": {},
   "outputs": [],
   "source": []
  }
 ],
 "metadata": {
  "kernelspec": {
   "display_name": "Python 3.9.6 64-bit",
   "language": "python",
   "name": "python3"
  },
  "language_info": {
   "codemirror_mode": {
    "name": "ipython",
    "version": 3
   },
   "file_extension": ".py",
   "mimetype": "text/x-python",
   "name": "python",
   "nbconvert_exporter": "python",
   "pygments_lexer": "ipython3",
   "version": "3.9.6"
  },
  "orig_nbformat": 4,
  "vscode": {
   "interpreter": {
    "hash": "4d3681dfa7bb848051958087f5c059ce61aaa4177c68ca92cc2769bacbe1c31f"
   }
  }
 },
 "nbformat": 4,
 "nbformat_minor": 2
}
